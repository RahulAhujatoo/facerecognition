{
 "cells": [
  {
   "cell_type": "code",
   "execution_count": 3,
   "metadata": {},
   "outputs": [],
   "source": [
    "import cv2\n",
    "import matplotlib.pyplot as plt\n",
    "import time\n",
    "import os\n",
    "import numpy as np\n"
   ]
  },
  {
   "cell_type": "code",
   "execution_count": 1,
   "metadata": {},
   "outputs": [
    {
     "name": "stdout",
     "output_type": "stream",
     "text": [
      "Collecting matplotlib\n",
      "  Downloading matplotlib-3.6.2-cp39-cp39-win_amd64.whl (7.2 MB)\n",
      "     ---------------------------------------- 7.2/7.2 MB 1.7 MB/s eta 0:00:00\n",
      "Collecting contourpy>=1.0.1\n",
      "  Downloading contourpy-1.0.6-cp39-cp39-win_amd64.whl (161 kB)\n",
      "     -------------------------------------- 161.3/161.3 kB 9.4 MB/s eta 0:00:00\n",
      "Requirement already satisfied: packaging>=20.0 in c:\\users\\rahul\\appdata\\local\\programs\\python\\python39\\lib\\site-packages (from matplotlib) (21.3)\n",
      "Collecting kiwisolver>=1.0.1\n",
      "  Downloading kiwisolver-1.4.4-cp39-cp39-win_amd64.whl (55 kB)\n",
      "     ---------------------------------------- 55.4/55.4 kB 1.4 MB/s eta 0:00:00\n",
      "Requirement already satisfied: pyparsing>=2.2.1 in c:\\users\\rahul\\appdata\\local\\programs\\python\\python39\\lib\\site-packages (from matplotlib) (3.0.8)\n",
      "Collecting cycler>=0.10\n",
      "  Downloading cycler-0.11.0-py3-none-any.whl (6.4 kB)\n",
      "Collecting fonttools>=4.22.0\n",
      "  Downloading fonttools-4.38.0-py3-none-any.whl (965 kB)\n",
      "     -------------------------------------- 965.4/965.4 kB 3.1 MB/s eta 0:00:00\n",
      "Requirement already satisfied: pillow>=6.2.0 in c:\\users\\rahul\\appdata\\local\\programs\\python\\python39\\lib\\site-packages (from matplotlib) (9.2.0)\n",
      "Requirement already satisfied: numpy>=1.19 in c:\\users\\rahul\\appdata\\local\\programs\\python\\python39\\lib\\site-packages (from matplotlib) (1.23.2)\n",
      "Requirement already satisfied: python-dateutil>=2.7 in c:\\users\\rahul\\appdata\\local\\programs\\python\\python39\\lib\\site-packages (from matplotlib) (2.8.2)\n",
      "Requirement already satisfied: six>=1.5 in c:\\users\\rahul\\appdata\\local\\programs\\python\\python39\\lib\\site-packages (from python-dateutil>=2.7->matplotlib) (1.16.0)\n",
      "Installing collected packages: kiwisolver, fonttools, cycler, contourpy, matplotlib\n",
      "Successfully installed contourpy-1.0.6 cycler-0.11.0 fonttools-4.38.0 kiwisolver-1.4.4 matplotlib-3.6.2\n",
      "Note: you may need to restart the kernel to use updated packages.\n"
     ]
    },
    {
     "name": "stderr",
     "output_type": "stream",
     "text": [
      "\n",
      "[notice] A new release of pip available: 22.3 -> 22.3.1\n",
      "[notice] To update, run: python.exe -m pip install --upgrade pip\n"
     ]
    }
   ],
   "source": [
    "pip install matplotlib"
   ]
  },
  {
   "cell_type": "code",
   "execution_count": null,
   "metadata": {},
   "outputs": [],
   "source": [
    "def detect_face2(img):\n",
    "    gray=cv2.cvtColor(img,cv2.COLOR_BGR2GRAY)\n",
    "    face_cascade=cv2.CascadeClassifier('')\n",
    "    faces=face_cascade.detectMultiScale(gray,scaleFactor=1.1,minNeighbors=20);\n",
    "\n",
    "    grays=[]\n",
    "    face_cood=[]\n",
    "    if(len(faces)==0):\n",
    "        return None,None\n",
    "    else:\n",
    "        for face in faces:\n",
    "            x,y,w,h=face\n",
    "            grays.append(gray[y:y+w,x:x+h])\n",
    "            face_cood.append(face)\n",
    "    return grays,face_cood\n",
    "\n",
    "def prepare_training_data(data_folder_path):\n",
    "    dirs=os.listdir(data_folder_path)\n",
    "    faces=[]\n",
    "    labels=[]\n",
    "    for dir_name in dirs:\n",
    "        if not dir_name.startswith(\"s\"):\n",
    "            continue;\n",
    "        label=int(dir_name.replace(\"s\",\"\"))\n",
    "        dir_path=data_folder_path + \"/\"+dir_name\n",
    "        images_names=os.listdir(dir_path)\n",
    "        for image_name in images_names:\n",
    "            image_path=dir_path+\"/\"+image_name\n",
    "            image=cv2.imread(image_path)\n",
    "            cv2.imshow(\"training on image...\",image)\n",
    "            cv2.waitKey(100)\n",
    "            face,rect=detect_face2(image)\n",
    "            if face is not None:\n",
    "                face=face[0]\n",
    "                rect=rect[0]\n",
    "                faces.append(face)\n",
    "                labels.append(label)\n",
    "            cv2.destroyAllWindows()\n",
    "            cv2.waitKey(1)\n",
    "            cv2.destroyAllWindows()\n",
    "    return faces,labels \n",
    "\n",
    "print(\"Preparing data...\")\n",
    "faces, labels = prepare_training_data(r\"training\")\n",
    "print(\"Total numberof faces : \", len(faces))\n",
    "print(\"Total number of labels : \",len(labels))\n",
    "#we use LBP face recognizer and we feed the faces along with corresponding labels to it for...\n",
    "face_recognizer = cv2.face.LBPHFaceRecognizer_create()\n",
    "labels=np.array(labels)\n",
    "face_recognizer.train(faces,labels) \n",
    "\n",
    "#this function draws the bounding box around the detected face in the image\n",
    "def draw_rectangle(img, rect):\n",
    "  (x, y, w, h) = rect\n",
    "  cv2.rectangle(img, (x,y), (x+w,y+h), (0, 25, 0),2)\n",
    "\n",
    "#this function is used to display the name over the bounding box\n",
    "def draw_text(img, text, x, y):\n",
    "  cv2.putText(img, text, (x,y), cv2.FONT_HERSHEY_PLAIN, 1.5, (0,255,0),2)\n",
    "\n",
    "#the name of the subjects that is people can be placed here according to folders\n",
    "\n",
    "# subject=[\"\",\"harry\",\"ankit\",\"abhi\"]\n",
    "subject[\"\",\"rahul\"]\n",
    "\n",
    "def predict(test_img):\n",
    "  img=test_img.copy()\n",
    "  faces, rects = detect_face2(img)\n",
    "  if faces is None:\n",
    "    return test_img\n",
    "  else:\n",
    "    #we use the for loop to loop over multiple faces detected in an image\n",
    "    for face, rect in zip(faces,rects):\n",
    "      label=face_recognizer.predict(face)\n",
    "      label_text = subject[int(label[0])]\n",
    "\n",
    "      draw_rectangle(img,rect)\n",
    "      draw_text(img, label_text, rect[0], rect[1]-5)\n",
    "  return img\n",
    "\n",
    "#this function uses your webcam and takes frames from it \n",
    "#and feeds those frames one by one to the face recognizer\n",
    "def startcam():\n",
    "    capture = cv2.VideoCapture(0)\n",
    "    while True:\n",
    "      stime = time.time()\n",
    "      ret, frame = capture.read(0)\n",
    "\n",
    "      frame=cv2.flip(frame, 1)\n",
    "      if ret:\n",
    "        predicted_img1=predict(frame)\n",
    "        cv2.imshow('frame',predicted_img1)\n",
    "\n",
    "        print('FPS {:.1f}'.format(1 / (time.time() - stime)))\n",
    "      if cv2.waitKey(50) & 0xFF == ord('q'):\n",
    "        break\n",
    "      capture.release()\n",
    "      cv2.destroyAllWindows()\n",
    "\n",
    "startcam()\n"
   ]
  },
  {
   "cell_type": "code",
   "execution_count": null,
   "metadata": {},
   "outputs": [],
   "source": []
  },
  {
   "cell_type": "code",
   "execution_count": null,
   "metadata": {},
   "outputs": [],
   "source": []
  }
 ],
 "metadata": {
  "kernelspec": {
   "display_name": "Python 3.9.12 64-bit",
   "language": "python",
   "name": "python3"
  },
  "language_info": {
   "codemirror_mode": {
    "name": "ipython",
    "version": 3
   },
   "file_extension": ".py",
   "mimetype": "text/x-python",
   "name": "python",
   "nbconvert_exporter": "python",
   "pygments_lexer": "ipython3",
   "version": "3.9.12"
  },
  "orig_nbformat": 4,
  "vscode": {
   "interpreter": {
    "hash": "74896034db1845be5000ed9314487ee297f444d1b9bf6f172497bb9704b8efa0"
   }
  }
 },
 "nbformat": 4,
 "nbformat_minor": 2
}
