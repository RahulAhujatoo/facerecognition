{
 "cells": [
  {
   "cell_type": "code",
   "execution_count": 4,
   "id": "e2bd7f29",
   "metadata": {},
   "outputs": [
    {
     "ename": "ModuleNotFoundError",
     "evalue": "No module named 'cv2'",
     "output_type": "error",
     "traceback": [
      "\u001b[1;31m---------------------------------------------------------------------------\u001b[0m",
      "\u001b[1;31mModuleNotFoundError\u001b[0m                       Traceback (most recent call last)",
      "\u001b[1;32m~\\AppData\\Local\\Temp/ipykernel_1540/3876766081.py\u001b[0m in \u001b[0;36m<module>\u001b[1;34m\u001b[0m\n\u001b[1;32m----> 1\u001b[1;33m \u001b[1;32mimport\u001b[0m \u001b[0mcv2\u001b[0m\u001b[1;33m\u001b[0m\u001b[1;33m\u001b[0m\u001b[0m\n\u001b[0m\u001b[0;32m      2\u001b[0m \u001b[1;32mimport\u001b[0m \u001b[0mnumpy\u001b[0m \u001b[1;32mas\u001b[0m \u001b[0mnp\u001b[0m\u001b[1;33m\u001b[0m\u001b[1;33m\u001b[0m\u001b[0m\n\u001b[0;32m      3\u001b[0m \u001b[1;33m\u001b[0m\u001b[0m\n\u001b[0;32m      4\u001b[0m \u001b[1;32mimport\u001b[0m \u001b[0mos\u001b[0m\u001b[1;33m\u001b[0m\u001b[1;33m\u001b[0m\u001b[0m\n\u001b[0;32m      5\u001b[0m \u001b[1;32mfrom\u001b[0m \u001b[0mdatetime\u001b[0m \u001b[1;32mimport\u001b[0m \u001b[0mdatetime\u001b[0m\u001b[1;33m\u001b[0m\u001b[1;33m\u001b[0m\u001b[0m\n",
      "\u001b[1;31mModuleNotFoundError\u001b[0m: No module named 'cv2'"
     ]
    }
   ],
   "source": [
    "import cv2\n",
    "import numpy as np\n",
    "\n",
    "import os\n",
    "from datetime import datetime\n"
   ]
  },
  {
   "cell_type": "code",
   "execution_count": 3,
   "id": "71238f30",
   "metadata": {},
   "outputs": [
    {
     "name": "stdout",
     "output_type": "stream",
     "text": [
      "Collecting face_recognition\n",
      "  Using cached face_recognition-1.3.0-py2.py3-none-any.whl (15 kB)\n",
      "Requirement already satisfied: Pillow in d:\\anaconda\\lib\\site-packages (from face_recognition) (8.4.0)\n",
      "Requirement already satisfied: numpy in d:\\anaconda\\lib\\site-packages (from face_recognition) (1.20.3)\n",
      "Collecting dlib>=19.7\n",
      "  Using cached dlib-19.24.0.tar.gz (3.2 MB)\n",
      "Requirement already satisfied: face-recognition-models>=0.3.0 in d:\\anaconda\\lib\\site-packages (from face_recognition) (0.3.0)\n",
      "Requirement already satisfied: Click>=6.0 in d:\\anaconda\\lib\\site-packages (from face_recognition) (8.0.3)\n",
      "Requirement already satisfied: colorama in d:\\anaconda\\lib\\site-packages (from Click>=6.0->face_recognition) (0.4.4)\n",
      "Building wheels for collected packages: dlib\n",
      "  Building wheel for dlib (setup.py): started\n",
      "  Building wheel for dlib (setup.py): finished with status 'error'\n",
      "  Running setup.py clean for dlib\n",
      "Failed to build dlib\n",
      "Installing collected packages: dlib, face-recognition\n",
      "    Running setup.py install for dlib: started\n",
      "    Running setup.py install for dlib: finished with status 'error'\n",
      "Note: you may need to restart the kernel to use updated packages.\n"
     ]
    },
    {
     "name": "stderr",
     "output_type": "stream",
     "text": [
      "WARNING: Retrying (Retry(total=4, connect=None, read=None, redirect=None, status=None)) after connection broken by 'NewConnectionError('<pip._vendor.urllib3.connection.HTTPSConnection object at 0x00000291EDDE4940>: Failed to establish a new connection: [Errno 11001] getaddrinfo failed')': /simple/face-recognition/\n",
      "WARNING: Retrying (Retry(total=3, connect=None, read=None, redirect=None, status=None)) after connection broken by 'NewConnectionError('<pip._vendor.urllib3.connection.HTTPSConnection object at 0x00000291EDDE4B20>: Failed to establish a new connection: [Errno 11001] getaddrinfo failed')': /simple/face-recognition/\n",
      "  ERROR: Command errored out with exit status 1:\n",
      "   command: 'D:\\anaconda\\python.exe' -u -c 'import io, os, sys, setuptools, tokenize; sys.argv[0] = '\"'\"'C:\\\\Users\\\\rahul\\\\AppData\\\\Local\\\\Temp\\\\pip-install-03x32blo\\\\dlib_c629757993454888afe7b2f1a0ff0b26\\\\setup.py'\"'\"'; __file__='\"'\"'C:\\\\Users\\\\rahul\\\\AppData\\\\Local\\\\Temp\\\\pip-install-03x32blo\\\\dlib_c629757993454888afe7b2f1a0ff0b26\\\\setup.py'\"'\"';f = getattr(tokenize, '\"'\"'open'\"'\"', open)(__file__) if os.path.exists(__file__) else io.StringIO('\"'\"'from setuptools import setup; setup()'\"'\"');code = f.read().replace('\"'\"'\\r\\n'\"'\"', '\"'\"'\\n'\"'\"');f.close();exec(compile(code, __file__, '\"'\"'exec'\"'\"'))' bdist_wheel -d 'C:\\Users\\rahul\\AppData\\Local\\Temp\\pip-wheel-9s0pmx1y'\n",
      "       cwd: C:\\Users\\rahul\\AppData\\Local\\Temp\\pip-install-03x32blo\\dlib_c629757993454888afe7b2f1a0ff0b26\\\n",
      "  Complete output (8 lines):\n",
      "  running bdist_wheel\n",
      "  running build\n",
      "  running build_py\n",
      "  package init file 'tools\\python\\dlib\\__init__.py' not found (or not a regular file)\n",
      "  running build_ext\n",
      "  \n",
      "  ERROR: CMake must be installed to build dlib\n",
      "  \n",
      "  ----------------------------------------\n",
      "  ERROR: Failed building wheel for dlib\n",
      "    ERROR: Command errored out with exit status 1:\n",
      "     command: 'D:\\anaconda\\python.exe' -u -c 'import io, os, sys, setuptools, tokenize; sys.argv[0] = '\"'\"'C:\\\\Users\\\\rahul\\\\AppData\\\\Local\\\\Temp\\\\pip-install-03x32blo\\\\dlib_c629757993454888afe7b2f1a0ff0b26\\\\setup.py'\"'\"'; __file__='\"'\"'C:\\\\Users\\\\rahul\\\\AppData\\\\Local\\\\Temp\\\\pip-install-03x32blo\\\\dlib_c629757993454888afe7b2f1a0ff0b26\\\\setup.py'\"'\"';f = getattr(tokenize, '\"'\"'open'\"'\"', open)(__file__) if os.path.exists(__file__) else io.StringIO('\"'\"'from setuptools import setup; setup()'\"'\"');code = f.read().replace('\"'\"'\\r\\n'\"'\"', '\"'\"'\\n'\"'\"');f.close();exec(compile(code, __file__, '\"'\"'exec'\"'\"'))' install --record 'C:\\Users\\rahul\\AppData\\Local\\Temp\\pip-record-cm4fvnkq\\install-record.txt' --single-version-externally-managed --compile --install-headers 'D:\\anaconda\\Include\\dlib'\n",
      "         cwd: C:\\Users\\rahul\\AppData\\Local\\Temp\\pip-install-03x32blo\\dlib_c629757993454888afe7b2f1a0ff0b26\\\n",
      "    Complete output (8 lines):\n",
      "    running install\n",
      "    running build\n",
      "    running build_py\n",
      "    package init file 'tools\\python\\dlib\\__init__.py' not found (or not a regular file)\n",
      "    running build_ext\n",
      "    \n",
      "    ERROR: CMake must be installed to build dlib\n",
      "    \n",
      "    ----------------------------------------\n",
      "ERROR: Command errored out with exit status 1: 'D:\\anaconda\\python.exe' -u -c 'import io, os, sys, setuptools, tokenize; sys.argv[0] = '\"'\"'C:\\\\Users\\\\rahul\\\\AppData\\\\Local\\\\Temp\\\\pip-install-03x32blo\\\\dlib_c629757993454888afe7b2f1a0ff0b26\\\\setup.py'\"'\"'; __file__='\"'\"'C:\\\\Users\\\\rahul\\\\AppData\\\\Local\\\\Temp\\\\pip-install-03x32blo\\\\dlib_c629757993454888afe7b2f1a0ff0b26\\\\setup.py'\"'\"';f = getattr(tokenize, '\"'\"'open'\"'\"', open)(__file__) if os.path.exists(__file__) else io.StringIO('\"'\"'from setuptools import setup; setup()'\"'\"');code = f.read().replace('\"'\"'\\r\\n'\"'\"', '\"'\"'\\n'\"'\"');f.close();exec(compile(code, __file__, '\"'\"'exec'\"'\"'))' install --record 'C:\\Users\\rahul\\AppData\\Local\\Temp\\pip-record-cm4fvnkq\\install-record.txt' --single-version-externally-managed --compile --install-headers 'D:\\anaconda\\Include\\dlib' Check the logs for full command output.\n"
     ]
    }
   ],
   "source": [
    "pip install face_recognition"
   ]
  },
  {
   "cell_type": "code",
   "execution_count": 7,
   "id": "29d14bd1",
   "metadata": {},
   "outputs": [
    {
     "name": "stdout",
     "output_type": "stream",
     "text": [
      "Requirement already satisfied: dlib in c:\\users\\rahul\\appdata\\local\\programs\\python\\python39\\lib\\site-packages (19.22.99)Note: you may need to restart the kernel to use updated packages.\n",
      "\n"
     ]
    }
   ],
   "source": [
    "pip install dlib"
   ]
  },
  {
   "cell_type": "code",
   "execution_count": null,
   "id": "906eb7bb",
   "metadata": {},
   "outputs": [],
   "source": []
  },
  {
   "cell_type": "code",
   "execution_count": null,
   "id": "037d954d",
   "metadata": {},
   "outputs": [],
   "source": []
  },
  {
   "cell_type": "code",
   "execution_count": 19,
   "id": "9fbf10a5",
   "metadata": {},
   "outputs": [
    {
     "name": "stdout",
     "output_type": "stream",
     "text": [
      "['hugie.jpg', 'rahul.jpg', 'ryan.jpg']\n",
      "['hugie', 'rahul', 'ryan']\n",
      "All Encodings Complete!!!\n"
     ]
    }
   ],
   "source": [
    "import cv2\n",
    "import numpy as np\n",
    "import face_recognition\n",
    "import os\n",
    "from datetime import datetime\n",
    "\n",
    "\n",
    "path = 'images'\n",
    "images = []\n",
    "personNames = []\n",
    "myList = os.listdir(path)\n",
    "print(myList)\n",
    "for cu_img in myList:\n",
    "    current_Img = cv2.imread(f'{path}/{cu_img}')\n",
    "    images.append(current_Img)\n",
    "    personNames.append(os.path.splitext(cu_img)[0])\n",
    "print(personNames)\n",
    "\n",
    "\n",
    "def faceEncodings(images):\n",
    "    encodeList = []\n",
    "    for img in images:\n",
    "        img = cv2.cvtColor(img, cv2.COLOR_BGR2RGB)\n",
    "        encode = face_recognition.face_encodings(img)[0]\n",
    "        encodeList.append(encode)\n",
    "    return encodeList\n",
    "\n",
    "\n",
    "def attendance(name):\n",
    "    with open('Attendance.csv', 'r+') as f:\n",
    "        myDataList = f.readlines()\n",
    "        nameList = []\n",
    "        for line in myDataList:\n",
    "            entry = line.split(',')\n",
    "            nameList.append(entry[0])\n",
    "        # if name not in nameList:\n",
    "        time_now = datetime.now()\n",
    "        tStr = time_now.strftime('%H:%M:%S')\n",
    "        dStr = time_now.strftime('%d/%m/%Y')\n",
    "        f.writelines(f'\\n{name},{tStr},{dStr}')\n",
    "\n",
    "\n",
    "encodeListKnown = faceEncodings(images)\n",
    "print('All Encodings Complete!!!')\n",
    "\n",
    "cap = cv2.VideoCapture(0)\n",
    "\n",
    "# \n",
    "\n",
    "\n",
    "fps_start_time = datetime.datetime.now()\n",
    "fps = 0\n",
    "total_frames = 0\n",
    "\n",
    "object_id_list = []\n",
    "dtime = dict()\n",
    "dwell_time = dict()\n",
    "\n",
    "\n",
    "# \n",
    "\n",
    "\n",
    "while True:\n",
    "    ret, frame = cap.read()\n",
    "    faces = cv2.resize(frame, (0, 0), None, 0.25, 0.25)\n",
    "    faces = cv2.cvtColor(faces, cv2.COLOR_BGR2RGB)\n",
    "\n",
    "    facesCurrentFrame = face_recognition.face_locations(faces)\n",
    "    encodesCurrentFrame = face_recognition.face_encodings(faces, facesCurrentFrame)\n",
    "\n",
    "    for encodeFace, faceLoc in zip(encodesCurrentFrame, facesCurrentFrame):\n",
    "        matches = face_recognition.compare_faces(encodeListKnown, encodeFace)\n",
    "        faceDis = face_recognition.face_distance(encodeListKnown, encodeFace)\n",
    "        # print(faceDis)\n",
    "        matchIndex = np.argmin(faceDis)\n",
    "\n",
    "        if matches[matchIndex]:\n",
    "            name = personNames[matchIndex].upper()\n",
    "            # print(name)\n",
    "            y1, x2, y2, x1 = faceLoc\n",
    "            y1, x2, y2, x1 = y1 * 4, x2 * 4, y2 * 4, x1 * 4\n",
    "            cv2.rectangle(frame, (x1, y1), (x2, y2), (0, 255, 0), 2)\n",
    "            cv2.rectangle(frame, (x1, y2 - 35), (x2, y2), (0, 255, 0), cv2.FILLED)\n",
    "            cv2.putText(frame, name, (x1 + 6, y2 - 6), cv2.FONT_HERSHEY_COMPLEX, 1, (255, 255, 255), 2)\n",
    "            attendance(name)\n",
    "\n",
    "\n",
    "    cv2.imshow('Webcam', frame)\n",
    "    if cv2.waitKey(1) == 13:\n",
    "        break\n",
    "\n",
    "cap.release()\n",
    "\n",
    "cv2.destroyAllWindows()"
   ]
  },
  {
   "cell_type": "code",
   "execution_count": 21,
   "id": "53d706dd",
   "metadata": {},
   "outputs": [],
   "source": []
  },
  {
   "cell_type": "code",
   "execution_count": null,
   "id": "7d94665c",
   "metadata": {},
   "outputs": [],
   "source": []
  }
 ],
 "metadata": {
  "kernelspec": {
   "display_name": "Python 3 (ipykernel)",
   "language": "python",
   "name": "python3"
  },
  "language_info": {
   "codemirror_mode": {
    "name": "ipython",
    "version": 3
   },
   "file_extension": ".py",
   "mimetype": "text/x-python",
   "name": "python",
   "nbconvert_exporter": "python",
   "pygments_lexer": "ipython3",
   "version": "3.9.7"
  },
  "vscode": {
   "interpreter": {
    "hash": "74896034db1845be5000ed9314487ee297f444d1b9bf6f172497bb9704b8efa0"
   }
  }
 },
 "nbformat": 4,
 "nbformat_minor": 5
}
